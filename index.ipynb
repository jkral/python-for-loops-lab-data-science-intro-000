{
 "cells": [
  {
   "cell_type": "markdown",
   "metadata": {},
   "source": [
    "# Python For loops Lab"
   ]
  },
  {
   "cell_type": "markdown",
   "metadata": {},
   "source": [
    "### Learning Objectives"
   ]
  },
  {
   "cell_type": "markdown",
   "metadata": {},
   "source": [
    "* Understand how for loops can help us reduce repetition\n",
    "* Understand the syntax of for loops "
   ]
  },
  {
   "cell_type": "markdown",
   "metadata": {},
   "source": [
    "### Picking up where we last left off"
   ]
  },
  {
   "cell_type": "markdown",
   "metadata": {},
   "source": [
    "In the last lesson, we worked with some of our travel data.  Let's retrieve a list with our travel information again from excel.  First, we read the information from excel as a list of dictionaries, with each dictionary representing a location.  And we assign this list to the variable `cities`."
   ]
  },
  {
   "cell_type": "code",
   "execution_count": 1,
   "metadata": {},
   "outputs": [],
   "source": [
    "import pandas\n",
    "file_name = './cities.xlsx'\n",
    "travel_df = pandas.read_excel(file_name)\n",
    "cities = travel_df.to_dict('records')"
   ]
  },
  {
   "cell_type": "markdown",
   "metadata": {},
   "source": [
    "Next, we retrieve the first three city names, stored as the `'City'` attribute of each dictionary, and `'Population'` of each of the cities.  Then we plot the names as our `x_values` and the populations as our `y_values`."
   ]
  },
  {
   "cell_type": "code",
   "execution_count": 3,
   "metadata": {},
   "outputs": [
    {
     "data": {
      "text/html": [
       "<script>requirejs.config({paths: { 'plotly': ['https://cdn.plot.ly/plotly-latest.min']},});if(!window.Plotly) {{require(['plotly'],function(plotly) {window.Plotly=plotly;});}}</script>"
      ],
      "text/vnd.plotly.v1+html": [
       "<script>requirejs.config({paths: { 'plotly': ['https://cdn.plot.ly/plotly-latest.min']},});if(!window.Plotly) {{require(['plotly'],function(plotly) {window.Plotly=plotly;});}}</script>"
      ]
     },
     "metadata": {},
     "output_type": "display_data"
    },
    {
     "data": {
      "application/vnd.plotly.v1+json": {
       "data": [
        {
         "type": "bar",
         "x": [
          "Buenos Aires",
          "Toronto",
          "Pyeongchang"
         ],
         "y": [
          2891000,
          2800000,
          2581000
         ]
        }
       ],
       "layout": {}
      },
      "text/html": [
       "<div id=\"3fc52b07-7183-404d-a345-57833813d35c\" style=\"height: 525px; width: 100%;\" class=\"plotly-graph-div\"></div><script type=\"text/javascript\">require([\"plotly\"], function(Plotly) { window.PLOTLYENV=window.PLOTLYENV || {};window.PLOTLYENV.BASE_URL=\"https://plot.ly\";Plotly.newPlot(\"3fc52b07-7183-404d-a345-57833813d35c\", [{\"x\": [\"Buenos Aires\", \"Toronto\", \"Pyeongchang\"], \"y\": [2891000, 2800000, 2581000], \"type\": \"bar\"}], {}, {\"showLink\": true, \"linkText\": \"Export to plot.ly\"})});</script>"
      ],
      "text/vnd.plotly.v1+html": [
       "<div id=\"3fc52b07-7183-404d-a345-57833813d35c\" style=\"height: 525px; width: 100%;\" class=\"plotly-graph-div\"></div><script type=\"text/javascript\">require([\"plotly\"], function(Plotly) { window.PLOTLYENV=window.PLOTLYENV || {};window.PLOTLYENV.BASE_URL=\"https://plot.ly\";Plotly.newPlot(\"3fc52b07-7183-404d-a345-57833813d35c\", [{\"x\": [\"Buenos Aires\", \"Toronto\", \"Pyeongchang\"], \"y\": [2891000, 2800000, 2581000], \"type\": \"bar\"}], {}, {\"showLink\": true, \"linkText\": \"Export to plot.ly\"})});</script>"
      ]
     },
     "metadata": {},
     "output_type": "display_data"
    }
   ],
   "source": [
    "import plotly\n",
    "\n",
    "plotly.offline.init_notebook_mode(connected=True)\n",
    "\n",
    "x_values = [cities[0]['City'], cities[1]['City'], cities[2]['City']]\n",
    "y_values = [cities[0]['Population'], cities[1]['Population'], cities[2]['Population']]\n",
    "trace_first_three_pops = {'x': x_values, 'y': y_values, 'type': 'bar'}\n",
    "plotly.offline.iplot([trace_first_three_pops])"
   ]
  },
  {
   "cell_type": "markdown",
   "metadata": {},
   "source": [
    "Of course, as you may have spotted, there is a good amount of repetition in displaying this data.  Just take a look at how we retrieved the data for our `x_values` and `y_values`.  "
   ]
  },
  {
   "cell_type": "code",
   "execution_count": 4,
   "metadata": {},
   "outputs": [],
   "source": [
    "x_values = [cities[0]['City'], cities[1]['City'], cities[2]['City']]\n",
    "y_values = [cities[0]['Population'], cities[1]['Population'], cities[2]['Population']]"
   ]
  },
  {
   "cell_type": "markdown",
   "metadata": {},
   "source": [
    "So in this lesson, we will use our `for` loop to display information about our travel locations with less repetition."
   ]
  },
  {
   "cell_type": "markdown",
   "metadata": {},
   "source": [
    "### Working with the For Loop"
   ]
  },
  {
   "cell_type": "markdown",
   "metadata": {},
   "source": [
    "Our `cities` list contains information about the top 12 cities.  For our upcoming iteration tasks, it will be useful to have a list of the numbers 0 through 11.  Use what we know about `len` and `range`to generate a list of numbers 1 through 11.  Assign this to a variable called `city_indices`."
   ]
  },
  {
   "cell_type": "code",
   "execution_count": 5,
   "metadata": {},
   "outputs": [
    {
     "data": {
      "text/plain": [
       "[0, 1, 2, 3, 4, 5, 6, 7, 8, 9, 10, 11]"
      ]
     },
     "execution_count": 5,
     "metadata": {},
     "output_type": "execute_result"
    }
   ],
   "source": [
    "city_indices = list(range(0, len(cities)))\n",
    "\n",
    "city_indices # [0, 1, 2, 3, 4, 5, 6, 7, 8, 9, 10, 11]"
   ]
  },
  {
   "cell_type": "markdown",
   "metadata": {},
   "source": [
    "Now we want to create labels for each of the cities. We'll provide a list of the `city_names` for you. "
   ]
  },
  {
   "cell_type": "code",
   "execution_count": 6,
   "metadata": {},
   "outputs": [],
   "source": [
    "city_names = ['Buenos Aires',\n",
    " 'Toronto',\n",
    " 'Pyeongchang',\n",
    " 'Marakesh',\n",
    " 'Albuquerque',\n",
    " 'Los Cabos',\n",
    " 'Greenville',\n",
    " 'Archipelago Sea',\n",
    " 'Walla Walla Valley',\n",
    " 'Salina Island',\n",
    " 'Solta',\n",
    " 'Iguazu Falls']"
   ]
  },
  {
   "cell_type": "markdown",
   "metadata": {},
   "source": [
    "Your task is to assign the variable `names_and_ranks` to a list, with each element equal to the city name and it's corresponding rank.  For example, the first element would be, `\"1. Buenos Aires\"` and the second would be `\"2. Toronto\"`.  Use a `for` loop and the lists `city_indices` and `city_names` to accomplish this."
   ]
  },
  {
   "cell_type": "code",
   "execution_count": 13,
   "metadata": {},
   "outputs": [
    {
     "data": {
      "text/plain": [
       "['0Buenos Aires',\n",
       " '10Buenos Aires',\n",
       " '210Buenos Aires',\n",
       " '3210Buenos Aires',\n",
       " '43210Buenos Aires',\n",
       " '543210Buenos Aires',\n",
       " '6543210Buenos Aires',\n",
       " '76543210Buenos Aires',\n",
       " '876543210Buenos Aires',\n",
       " '9876543210Buenos Aires',\n",
       " '109876543210Buenos Aires',\n",
       " '11109876543210Buenos Aires',\n",
       " '0Toronto',\n",
       " '10Toronto',\n",
       " '210Toronto',\n",
       " '3210Toronto',\n",
       " '43210Toronto',\n",
       " '543210Toronto',\n",
       " '6543210Toronto',\n",
       " '76543210Toronto',\n",
       " '876543210Toronto',\n",
       " '9876543210Toronto',\n",
       " '109876543210Toronto',\n",
       " '11109876543210Toronto',\n",
       " '0Pyeongchang',\n",
       " '10Pyeongchang',\n",
       " '210Pyeongchang',\n",
       " '3210Pyeongchang',\n",
       " '43210Pyeongchang',\n",
       " '543210Pyeongchang',\n",
       " '6543210Pyeongchang',\n",
       " '76543210Pyeongchang',\n",
       " '876543210Pyeongchang',\n",
       " '9876543210Pyeongchang',\n",
       " '109876543210Pyeongchang',\n",
       " '11109876543210Pyeongchang',\n",
       " '0Marakesh',\n",
       " '10Marakesh',\n",
       " '210Marakesh',\n",
       " '3210Marakesh',\n",
       " '43210Marakesh',\n",
       " '543210Marakesh',\n",
       " '6543210Marakesh',\n",
       " '76543210Marakesh',\n",
       " '876543210Marakesh',\n",
       " '9876543210Marakesh',\n",
       " '109876543210Marakesh',\n",
       " '11109876543210Marakesh',\n",
       " '0Albuquerque',\n",
       " '10Albuquerque',\n",
       " '210Albuquerque',\n",
       " '3210Albuquerque',\n",
       " '43210Albuquerque',\n",
       " '543210Albuquerque',\n",
       " '6543210Albuquerque',\n",
       " '76543210Albuquerque',\n",
       " '876543210Albuquerque',\n",
       " '9876543210Albuquerque',\n",
       " '109876543210Albuquerque',\n",
       " '11109876543210Albuquerque',\n",
       " '0Los Cabos',\n",
       " '10Los Cabos',\n",
       " '210Los Cabos',\n",
       " '3210Los Cabos',\n",
       " '43210Los Cabos',\n",
       " '543210Los Cabos',\n",
       " '6543210Los Cabos',\n",
       " '76543210Los Cabos',\n",
       " '876543210Los Cabos',\n",
       " '9876543210Los Cabos',\n",
       " '109876543210Los Cabos',\n",
       " '11109876543210Los Cabos',\n",
       " '0Greenville',\n",
       " '10Greenville',\n",
       " '210Greenville',\n",
       " '3210Greenville',\n",
       " '43210Greenville',\n",
       " '543210Greenville',\n",
       " '6543210Greenville',\n",
       " '76543210Greenville',\n",
       " '876543210Greenville',\n",
       " '9876543210Greenville',\n",
       " '109876543210Greenville',\n",
       " '11109876543210Greenville',\n",
       " '0Archipelago Sea',\n",
       " '10Archipelago Sea',\n",
       " '210Archipelago Sea',\n",
       " '3210Archipelago Sea',\n",
       " '43210Archipelago Sea',\n",
       " '543210Archipelago Sea',\n",
       " '6543210Archipelago Sea',\n",
       " '76543210Archipelago Sea',\n",
       " '876543210Archipelago Sea',\n",
       " '9876543210Archipelago Sea',\n",
       " '109876543210Archipelago Sea',\n",
       " '11109876543210Archipelago Sea',\n",
       " '0Walla Walla Valley',\n",
       " '10Walla Walla Valley',\n",
       " '210Walla Walla Valley',\n",
       " '3210Walla Walla Valley',\n",
       " '43210Walla Walla Valley',\n",
       " '543210Walla Walla Valley',\n",
       " '6543210Walla Walla Valley',\n",
       " '76543210Walla Walla Valley',\n",
       " '876543210Walla Walla Valley',\n",
       " '9876543210Walla Walla Valley',\n",
       " '109876543210Walla Walla Valley',\n",
       " '11109876543210Walla Walla Valley',\n",
       " '0Salina Island',\n",
       " '10Salina Island',\n",
       " '210Salina Island',\n",
       " '3210Salina Island',\n",
       " '43210Salina Island',\n",
       " '543210Salina Island',\n",
       " '6543210Salina Island',\n",
       " '76543210Salina Island',\n",
       " '876543210Salina Island',\n",
       " '9876543210Salina Island',\n",
       " '109876543210Salina Island',\n",
       " '11109876543210Salina Island',\n",
       " '0Solta',\n",
       " '10Solta',\n",
       " '210Solta',\n",
       " '3210Solta',\n",
       " '43210Solta',\n",
       " '543210Solta',\n",
       " '6543210Solta',\n",
       " '76543210Solta',\n",
       " '876543210Solta',\n",
       " '9876543210Solta',\n",
       " '109876543210Solta',\n",
       " '11109876543210Solta',\n",
       " '0Iguazu Falls',\n",
       " '10Iguazu Falls',\n",
       " '210Iguazu Falls',\n",
       " '3210Iguazu Falls',\n",
       " '43210Iguazu Falls',\n",
       " '543210Iguazu Falls',\n",
       " '6543210Iguazu Falls',\n",
       " '76543210Iguazu Falls',\n",
       " '876543210Iguazu Falls',\n",
       " '9876543210Iguazu Falls',\n",
       " '109876543210Iguazu Falls',\n",
       " '11109876543210Iguazu Falls',\n",
       " '111109876543210Iguazu Falls',\n",
       " '2111109876543210Iguazu Falls',\n",
       " '32111109876543210Iguazu Falls',\n",
       " '432111109876543210Iguazu Falls',\n",
       " '5432111109876543210Iguazu Falls',\n",
       " '65432111109876543210Iguazu Falls',\n",
       " '765432111109876543210Iguazu Falls',\n",
       " '8765432111109876543210Iguazu Falls',\n",
       " '98765432111109876543210Iguazu Falls',\n",
       " '1098765432111109876543210Iguazu Falls',\n",
       " '111098765432111109876543210Iguazu Falls',\n",
       " '12111098765432111109876543210Iguazu Falls',\n",
       " '112111098765432111109876543210Iguazu Falls',\n",
       " '2112111098765432111109876543210Iguazu Falls',\n",
       " '32112111098765432111109876543210Iguazu Falls',\n",
       " '432112111098765432111109876543210Iguazu Falls',\n",
       " '5432112111098765432111109876543210Iguazu Falls',\n",
       " '65432112111098765432111109876543210Iguazu Falls',\n",
       " '765432112111098765432111109876543210Iguazu Falls',\n",
       " '8765432112111098765432111109876543210Iguazu Falls',\n",
       " '98765432112111098765432111109876543210Iguazu Falls',\n",
       " '1098765432112111098765432111109876543210Iguazu Falls',\n",
       " '111098765432112111098765432111109876543210Iguazu Falls',\n",
       " '12111098765432112111098765432111109876543210Iguazu Falls',\n",
       " '112111098765432112111098765432111109876543210Iguazu Falls',\n",
       " '2112111098765432112111098765432111109876543210Iguazu Falls',\n",
       " '32112111098765432112111098765432111109876543210Iguazu Falls',\n",
       " '432112111098765432112111098765432111109876543210Iguazu Falls',\n",
       " '5432112111098765432112111098765432111109876543210Iguazu Falls',\n",
       " '65432112111098765432112111098765432111109876543210Iguazu Falls',\n",
       " '765432112111098765432112111098765432111109876543210Iguazu Falls',\n",
       " '8765432112111098765432112111098765432111109876543210Iguazu Falls',\n",
       " '98765432112111098765432112111098765432111109876543210Iguazu Falls',\n",
       " '1098765432112111098765432112111098765432111109876543210Iguazu Falls',\n",
       " '111098765432112111098765432112111098765432111109876543210Iguazu Falls',\n",
       " '12111098765432112111098765432112111098765432111109876543210Iguazu Falls']"
      ]
     },
     "execution_count": 13,
     "metadata": {},
     "output_type": "execute_result"
    }
   ],
   "source": [
    "for index in city_indices:\n",
    "    city = str(index + 1) + \"\" + city\n",
    "    names_and_ranks.append(city)\n",
    "\n",
    "names_and_ranks\n",
    "# make sure the list is empty"
   ]
  },
  {
   "cell_type": "code",
   "execution_count": null,
   "metadata": {},
   "outputs": [],
   "source": [
    "names_and_ranks[0] # '1. Buenos Aires'\n",
    "names_and_ranks[1] # '2. Toronto'\n",
    "names_and_ranks[-1] # '12. Iguazu Falls'"
   ]
  },
  {
   "cell_type": "markdown",
   "metadata": {},
   "source": [
    "Ok, now let's create a new variable called `city_populations`.  Use a `for` loop to iterate through `cities` and have `city_populations` equal to each of the populations."
   ]
  },
  {
   "cell_type": "code",
   "execution_count": null,
   "metadata": {},
   "outputs": [],
   "source": [
    "city_populations = []"
   ]
  },
  {
   "cell_type": "code",
   "execution_count": null,
   "metadata": {
    "collapsed": true
   },
   "outputs": [],
   "source": [
    "city_populations[0] # 2891000\n",
    "city_populations[1] # 2800000\n",
    "city_populations[-1] # 0"
   ]
  },
  {
   "cell_type": "markdown",
   "metadata": {},
   "source": [
    "Great! Now we can begin to plot this data.  First, let's create a trace of our populations and set it to the variable `trace_populations`."
   ]
  },
  {
   "cell_type": "code",
   "execution_count": null,
   "metadata": {},
   "outputs": [],
   "source": [
    "trace_populations = {'x': names_and_ranks, \n",
    "                     'y': city_populations, \n",
    "                     'text': names_and_ranks, \n",
    "                     'type': 'bar', \n",
    "                     'name': 'populations'}"
   ]
  },
  {
   "cell_type": "code",
   "execution_count": null,
   "metadata": {
    "collapsed": true
   },
   "outputs": [],
   "source": [
    "import plotly\n",
    "plotly.offline.init_notebook_mode(connected=True)\n",
    "plotly.offline.iplot([trace_populations])"
   ]
  },
  {
   "cell_type": "markdown",
   "metadata": {},
   "source": [
    "Now we want declare a variable called `city_areas` that points to a list of all of the areas of the cities.  Let's use a `for` loop to iterate through our `cities` and have `city_areas` equal to each area of the city.  "
   ]
  },
  {
   "cell_type": "code",
   "execution_count": null,
   "metadata": {},
   "outputs": [],
   "source": [
    "city_areas = []"
   ]
  },
  {
   "cell_type": "code",
   "execution_count": null,
   "metadata": {},
   "outputs": [],
   "source": [
    "trace_areas = {'x': names_and_ranks, 'y': city_areas, 'text': names_and_ranks, 'type': 'bar', 'name': 'areas'}"
   ]
  },
  {
   "cell_type": "code",
   "execution_count": null,
   "metadata": {
    "collapsed": true
   },
   "outputs": [],
   "source": [
    "import plotly\n",
    "plotly.offline.init_notebook_mode(connected=True)\n",
    "plotly.offline.iplot([trace_populations, trace_areas])"
   ]
  },
  {
   "cell_type": "markdown",
   "metadata": {},
   "source": [
    "### Summary"
   ]
  },
  {
   "cell_type": "markdown",
   "metadata": {},
   "source": [
    "In this section we saw how we can use `for` loops to go through elements of a list and perform the same operation on each.  By using `for` loops we were able to reduce the amount of code that we wrote and while also writing more expressive code."
   ]
  }
 ],
 "metadata": {
  "kernelspec": {
   "display_name": "Python 3",
   "language": "python",
   "name": "python3"
  },
  "language_info": {
   "codemirror_mode": {
    "name": "ipython",
    "version": 3
   },
   "file_extension": ".py",
   "mimetype": "text/x-python",
   "name": "python",
   "nbconvert_exporter": "python",
   "pygments_lexer": "ipython3",
   "version": "3.6.4"
  }
 },
 "nbformat": 4,
 "nbformat_minor": 2
}
